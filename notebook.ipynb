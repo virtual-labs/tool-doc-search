{
 "cells": [
  {
   "cell_type": "code",
   "execution_count": 25,
   "metadata": {},
   "outputs": [],
   "source": [
    "from qdrant_client import models, QdrantClient\n",
    "from sentence_transformers import SentenceTransformer\n",
    "import pandas as pd\n",
    "from IPython.display import display, HTML\n",
    "from utils.document_parser import get_chunks\n",
    "from qdrant_client.http import models\n",
    "import ipywidgets as widgets\n",
    "import uuid"
   ]
  },
  {
   "cell_type": "code",
   "execution_count": 26,
   "metadata": {},
   "outputs": [],
   "source": [
    "encoder = SentenceTransformer('all-MiniLM-L6-v2')\n",
    "# all-MiniLM-L6-v2\n",
    "# all-mpnet-base-v2\n"
   ]
  },
  {
   "cell_type": "code",
   "execution_count": 27,
   "metadata": {},
   "outputs": [],
   "source": [
    "docs = [\n",
    "        {\n",
    "            \"url\": \"https://docs.google.com/document/d/1SxTsELQQafYLNXU7q4dcgR-1K0XbX29i\",\n",
    "            \"type\": \"gdoc\"\n",
    "        },\n",
    "        {\n",
    "            \"url\": \"https://github.com/virtual-labs/app-exp-create-web/blob/master/docs/developer-doc.md\",\n",
    "            \"type\": \"md\"\n",
    "        },\n",
    "        {\n",
    "            \"url\": \"https://docs.google.com/document/d/1SxTsELQQafYLNXU7q4dcgR-1K0XbX29i\",\n",
    "            \"type\": \"gdoc\"\n",
    "        },\n",
    "        {\n",
    "            \"url\": \"https://github.com/virtual-labs/app-exp-create-web/blob/master/docs/user-doc.md\",\n",
    "            \"type\": \"md\"\n",
    "        },\n",
    "        {\n",
    "            \"url\": \"https://github.com/virtual-labs/app-vlabs-pwa/blob/main/docs/tech_guide.md\",\n",
    "            \"type\": \"md\"\n",
    "        },\n",
    "        {\n",
    "            \"url\": \"https://github.com/virtual-labs/app-vlabs-pwa/blob/main/docs/user_manual.md\",\n",
    "            \"type\": \"md\"\n",
    "        },\n",
    "        {\n",
    "            \"url\": \"https://docs.google.com/document/d/1lGm88N-Z6fQM6v04k9NZTd-STZ0XYV6YRwIYT1JiSP8/\",\n",
    "            \"type\": \"gdoc\"\n",
    "        }\n",
    "     ]"
   ]
  },
  {
   "cell_type": "code",
   "execution_count": 28,
   "metadata": {},
   "outputs": [],
   "source": [
    "qdrant = QdrantClient(\":memory:\")"
   ]
  },
  {
   "cell_type": "code",
   "execution_count": 29,
   "metadata": {},
   "outputs": [
    {
     "data": {
      "text/plain": [
       "True"
      ]
     },
     "execution_count": 29,
     "metadata": {},
     "output_type": "execute_result"
    }
   ],
   "source": [
    "collection_name = \"my_doc\"\n",
    "qdrant.recreate_collection(\n",
    "    collection_name=f\"{collection_name}\",\n",
    "    vectors_config=models.VectorParams(\n",
    "        size=encoder.get_sentence_embedding_dimension(),\n",
    "        distance=models.Distance.DOT\n",
    "    )\n",
    ")"
   ]
  },
  {
   "cell_type": "code",
   "execution_count": 30,
   "metadata": {},
   "outputs": [],
   "source": [
    "for doc in docs:\n",
    "    data = get_chunks(doc)\n",
    "    if len(data):        \n",
    "        qdrant.delete(\n",
    "            collection_name=f\"{collection_name}\",\n",
    "            points_selector=models.FilterSelector(\n",
    "                filter=models.Filter(\n",
    "                    must=[\n",
    "                        models.FieldCondition(\n",
    "                            key=\"page_title\",\n",
    "                            match=models.MatchValue(value=data[0][\"payload\"][\"page_title\"]),\n",
    "                        ),\n",
    "                    ],\n",
    "                )\n",
    "            ),\n",
    "        )\n",
    "        payloads = []\n",
    "        vectors = []\n",
    "        ids = []\n",
    "        for doc in data:\n",
    "            ids.append(uuid.uuid4().int >> 64)\n",
    "            vectors.append(encoder.encode(doc[\"content\"]).tolist())\n",
    "            payloads.append(doc[\"payload\"])\n",
    "        qdrant.upsert(\n",
    "            collection_name=f\"{collection_name}\",\n",
    "            points=models.Batch(\n",
    "                ids=ids,\n",
    "                payloads=payloads,\n",
    "                vectors=vectors\n",
    "            ),\n",
    "        )"
   ]
  },
  {
   "cell_type": "code",
   "execution_count": 31,
   "metadata": {},
   "outputs": [],
   "source": [
    "queries = [\n",
    "\t\"what are future update and releases for content development platform\", #0\n",
    "\t\"how to modify experiment after creating it\", #1\n",
    "\t\"getting authentication error in content development platform\", #2\n",
    "\t\"how do i search experiments in pwa\", #3\n",
    "\t\"how do i apply filters in vlabs pwa\", #4\n",
    "\t\"how do i apply filters on search in vlabs pwa\", #5\n",
    "\t\"what is google's revenue in 2022\", #6\n",
    "\t\"what is my name\", #7\n",
    "\t\"Virtual Labs Content Development Platform - Developer Document\", #8\n",
    "\t\"what was the problem which lead to cms development\", #9\n",
    "\t\"tell about shauryagarh in board game\", #10\n",
    "]\n"
   ]
  },
  {
   "cell_type": "code",
   "execution_count": null,
   "metadata": {},
   "outputs": [
    {
     "data": {
      "application/vnd.jupyter.widget-view+json": {
       "model_id": "d515e7be00ad4204b03d8653782cc2f6",
       "version_major": 2,
       "version_minor": 0
      },
      "text/plain": [
       "VBox(children=(Text(value='', description='Search', placeholder='Enter your query...'), Text(value='10', descr…"
      ]
     },
     "metadata": {},
     "output_type": "display_data"
    }
   ],
   "source": [
    "query_input = widgets.Text(placeholder=\"Enter your query...\",description=\"Search\",)\n",
    "limit_input = widgets.Text(placeholder=\"Enter limit...\",description=\"Limit\", value=\"10\")\n",
    "search_button = widgets.Button(description=\"Search\")\n",
    "clear_button = widgets.Button(description=\"Clear\")\n",
    "\n",
    "filter_options = ['Any', 'md', 'gdoc']\n",
    "filter_dropdown = widgets.Dropdown(options=filter_options, description='Doc Type:')\n",
    "selected_filter = None\n",
    "\n",
    "results_table = widgets.Output()\n",
    "\n",
    "def perform_search(b):\n",
    "    global selected_filter\n",
    "    query = query_input.value\n",
    "    limit = limit_input.value\n",
    "\n",
    "    if query == '' : return \n",
    "    selected_filter = filter_dropdown.value\n",
    "\n",
    "    filter = models.Filter(must=[\n",
    "        models.FieldCondition(key=\"type\",  match=models.MatchValue(value=selected_filter),)\n",
    "    ]) if selected_filter != 'Any' else None\n",
    "\n",
    "    hits = qdrant.search(\n",
    "        collection_name=\"my_doc\",\n",
    "        query_vector=encoder.encode(\n",
    "            query).tolist(),\n",
    "        limit=int(limit),\n",
    "        query_filter=filter\n",
    "    )\n",
    "\n",
    "    search_results = []\n",
    "    for hit in hits:\n",
    "        search_results.append({\n",
    "            \"type\": hit.payload[\"type\"], \n",
    "            \"url\": hit.payload[\"url\"],\n",
    "            \"score\": hit.score,\n",
    "            \"heading\": hit.payload[\"heading\"],\n",
    "            \"document\": hit.payload[\"page_title\"],\n",
    "            \"text\": hit.payload[\"text\"].split(\"::\")[2].strip(),\n",
    "        })\n",
    "\n",
    "    if selected_filter != 'Any':\n",
    "        search_results = [result for result in search_results if result['type'] == selected_filter]\n",
    "    df = pd.DataFrame(search_results)\n",
    "    # print(len(df))\n",
    "    if len(df):\n",
    "        df[\"url\"] = df[\"url\"].apply(lambda link: f'<a href=\"{link}\">Visit Link</a>')\n",
    "        df[\"text\"] = df[\"text\"].apply(lambda link: link.replace(\"\\n\", \"<br>\"))\n",
    "        with results_table:\n",
    "            results_table.clear_output() \n",
    "            display(HTML(df.to_html(escape=False)))\n",
    "    else:\n",
    "        results_table.clear_output()\n",
    "\n",
    "def perform_clear(b):\n",
    "    results_table.clear_output() \n",
    "\n",
    "search_button.on_click(perform_search)\n",
    "clear_button.on_click(perform_clear)\n",
    "\n",
    "form = widgets.VBox([query_input,limit_input, filter_dropdown, search_button,clear_button, results_table])\n",
    "\n",
    "display(form)"
   ]
  }
 ],
 "metadata": {
  "kernelspec": {
   "display_name": "Python 3",
   "language": "python",
   "name": "python3"
  },
  "language_info": {
   "codemirror_mode": {
    "name": "ipython",
    "version": 3
   },
   "file_extension": ".py",
   "mimetype": "text/x-python",
   "name": "python",
   "nbconvert_exporter": "python",
   "pygments_lexer": "ipython3",
   "version": "3.8.10"
  },
  "orig_nbformat": 4
 },
 "nbformat": 4,
 "nbformat_minor": 2
}
